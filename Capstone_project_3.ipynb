{
 "cells": [
  {
   "cell_type": "code",
   "execution_count": 2,
   "id": "30219e47-a193-4c83-95e1-7b10b5abd8fa",
   "metadata": {},
   "outputs": [],
   "source": [
    "import pandas as pd\n",
    "import numpy as np\n",
    "import matplotlib.pyplot as plt\n",
    "import seaborn as sns\n",
    "from sklearn.model_selection import train_test_split, cross_val_score\n",
    "from sklearn.ensemble import RandomForestClassifier, GradientBoostingClassifier\n",
    "from sklearn.linear_model import LogisticRegression\n",
    "from xgboost import XGBClassifier\n",
    "from sklearn.svm import SVC\n",
    "from sklearn.metrics import classification_report, roc_auc_score, confusion_matrix, precision_recall_curve, auc, roc_curve, accuracy_score"
   ]
  },
  {
   "cell_type": "code",
   "execution_count": 3,
   "id": "9d156bdd-2182-4c8b-bcdd-8f48ad240e69",
   "metadata": {},
   "outputs": [],
   "source": [
    "data = pd.read_csv('Fraud_Analysis_Dataset.csv')"
   ]
  },
  {
   "cell_type": "code",
   "execution_count": 4,
   "id": "1e9c9611-0d4d-4462-a482-e9b7cdabd6c7",
   "metadata": {},
   "outputs": [
    {
     "data": {
      "text/html": [
       "<div>\n",
       "<style scoped>\n",
       "    .dataframe tbody tr th:only-of-type {\n",
       "        vertical-align: middle;\n",
       "    }\n",
       "\n",
       "    .dataframe tbody tr th {\n",
       "        vertical-align: top;\n",
       "    }\n",
       "\n",
       "    .dataframe thead th {\n",
       "        text-align: right;\n",
       "    }\n",
       "</style>\n",
       "<table border=\"1\" class=\"dataframe\">\n",
       "  <thead>\n",
       "    <tr style=\"text-align: right;\">\n",
       "      <th></th>\n",
       "      <th>step</th>\n",
       "      <th>type</th>\n",
       "      <th>amount</th>\n",
       "      <th>nameOrig</th>\n",
       "      <th>oldbalanceOrg</th>\n",
       "      <th>newbalanceOrig</th>\n",
       "      <th>nameDest</th>\n",
       "      <th>oldbalanceDest</th>\n",
       "      <th>newbalanceDest</th>\n",
       "      <th>isFraud</th>\n",
       "    </tr>\n",
       "  </thead>\n",
       "  <tbody>\n",
       "    <tr>\n",
       "      <th>0</th>\n",
       "      <td>1</td>\n",
       "      <td>TRANSFER</td>\n",
       "      <td>181.00</td>\n",
       "      <td>C1305486145</td>\n",
       "      <td>181.00</td>\n",
       "      <td>0.00</td>\n",
       "      <td>C553264065</td>\n",
       "      <td>0.00</td>\n",
       "      <td>0.00</td>\n",
       "      <td>1</td>\n",
       "    </tr>\n",
       "    <tr>\n",
       "      <th>1</th>\n",
       "      <td>1</td>\n",
       "      <td>CASH_OUT</td>\n",
       "      <td>181.00</td>\n",
       "      <td>C840083671</td>\n",
       "      <td>181.00</td>\n",
       "      <td>0.00</td>\n",
       "      <td>C38997010</td>\n",
       "      <td>21182.00</td>\n",
       "      <td>0.00</td>\n",
       "      <td>1</td>\n",
       "    </tr>\n",
       "    <tr>\n",
       "      <th>2</th>\n",
       "      <td>1</td>\n",
       "      <td>TRANSFER</td>\n",
       "      <td>2806.00</td>\n",
       "      <td>C1420196421</td>\n",
       "      <td>2806.00</td>\n",
       "      <td>0.00</td>\n",
       "      <td>C972765878</td>\n",
       "      <td>0.00</td>\n",
       "      <td>0.00</td>\n",
       "      <td>1</td>\n",
       "    </tr>\n",
       "    <tr>\n",
       "      <th>3</th>\n",
       "      <td>1</td>\n",
       "      <td>CASH_OUT</td>\n",
       "      <td>2806.00</td>\n",
       "      <td>C2101527076</td>\n",
       "      <td>2806.00</td>\n",
       "      <td>0.00</td>\n",
       "      <td>C1007251739</td>\n",
       "      <td>26202.00</td>\n",
       "      <td>0.00</td>\n",
       "      <td>1</td>\n",
       "    </tr>\n",
       "    <tr>\n",
       "      <th>4</th>\n",
       "      <td>1</td>\n",
       "      <td>TRANSFER</td>\n",
       "      <td>20128.00</td>\n",
       "      <td>C137533655</td>\n",
       "      <td>20128.00</td>\n",
       "      <td>0.00</td>\n",
       "      <td>C1848415041</td>\n",
       "      <td>0.00</td>\n",
       "      <td>0.00</td>\n",
       "      <td>1</td>\n",
       "    </tr>\n",
       "    <tr>\n",
       "      <th>...</th>\n",
       "      <td>...</td>\n",
       "      <td>...</td>\n",
       "      <td>...</td>\n",
       "      <td>...</td>\n",
       "      <td>...</td>\n",
       "      <td>...</td>\n",
       "      <td>...</td>\n",
       "      <td>...</td>\n",
       "      <td>...</td>\n",
       "      <td>...</td>\n",
       "    </tr>\n",
       "    <tr>\n",
       "      <th>11137</th>\n",
       "      <td>7</td>\n",
       "      <td>DEBIT</td>\n",
       "      <td>6393.71</td>\n",
       "      <td>C1331144930</td>\n",
       "      <td>433084.38</td>\n",
       "      <td>426690.68</td>\n",
       "      <td>C684896216</td>\n",
       "      <td>478421.00</td>\n",
       "      <td>210535.25</td>\n",
       "      <td>0</td>\n",
       "    </tr>\n",
       "    <tr>\n",
       "      <th>11138</th>\n",
       "      <td>7</td>\n",
       "      <td>CASH_OUT</td>\n",
       "      <td>298799.54</td>\n",
       "      <td>C932023579</td>\n",
       "      <td>426690.68</td>\n",
       "      <td>127891.14</td>\n",
       "      <td>C1761353343</td>\n",
       "      <td>704355.36</td>\n",
       "      <td>5270364.19</td>\n",
       "      <td>0</td>\n",
       "    </tr>\n",
       "    <tr>\n",
       "      <th>11139</th>\n",
       "      <td>7</td>\n",
       "      <td>CASH_OUT</td>\n",
       "      <td>423159.63</td>\n",
       "      <td>C61395726</td>\n",
       "      <td>127891.14</td>\n",
       "      <td>0.00</td>\n",
       "      <td>C1298316171</td>\n",
       "      <td>610479.00</td>\n",
       "      <td>749621.53</td>\n",
       "      <td>0</td>\n",
       "    </tr>\n",
       "    <tr>\n",
       "      <th>11140</th>\n",
       "      <td>7</td>\n",
       "      <td>PAYMENT</td>\n",
       "      <td>1094.03</td>\n",
       "      <td>C1224570697</td>\n",
       "      <td>13918.00</td>\n",
       "      <td>12823.97</td>\n",
       "      <td>M983553548</td>\n",
       "      <td>0.00</td>\n",
       "      <td>0.00</td>\n",
       "      <td>0</td>\n",
       "    </tr>\n",
       "    <tr>\n",
       "      <th>11141</th>\n",
       "      <td>7</td>\n",
       "      <td>PAYMENT</td>\n",
       "      <td>9235.58</td>\n",
       "      <td>C1637966097</td>\n",
       "      <td>39963.00</td>\n",
       "      <td>30727.42</td>\n",
       "      <td>M609545864</td>\n",
       "      <td>0.00</td>\n",
       "      <td>0.00</td>\n",
       "      <td>0</td>\n",
       "    </tr>\n",
       "  </tbody>\n",
       "</table>\n",
       "<p>11142 rows × 10 columns</p>\n",
       "</div>"
      ],
      "text/plain": [
       "       step      type     amount     nameOrig  oldbalanceOrg  newbalanceOrig  \\\n",
       "0         1  TRANSFER     181.00  C1305486145         181.00            0.00   \n",
       "1         1  CASH_OUT     181.00   C840083671         181.00            0.00   \n",
       "2         1  TRANSFER    2806.00  C1420196421        2806.00            0.00   \n",
       "3         1  CASH_OUT    2806.00  C2101527076        2806.00            0.00   \n",
       "4         1  TRANSFER   20128.00   C137533655       20128.00            0.00   \n",
       "...     ...       ...        ...          ...            ...             ...   \n",
       "11137     7     DEBIT    6393.71  C1331144930      433084.38       426690.68   \n",
       "11138     7  CASH_OUT  298799.54   C932023579      426690.68       127891.14   \n",
       "11139     7  CASH_OUT  423159.63    C61395726      127891.14            0.00   \n",
       "11140     7   PAYMENT    1094.03  C1224570697       13918.00        12823.97   \n",
       "11141     7   PAYMENT    9235.58  C1637966097       39963.00        30727.42   \n",
       "\n",
       "          nameDest  oldbalanceDest  newbalanceDest  isFraud  \n",
       "0       C553264065            0.00            0.00        1  \n",
       "1        C38997010        21182.00            0.00        1  \n",
       "2       C972765878            0.00            0.00        1  \n",
       "3      C1007251739        26202.00            0.00        1  \n",
       "4      C1848415041            0.00            0.00        1  \n",
       "...            ...             ...             ...      ...  \n",
       "11137   C684896216       478421.00       210535.25        0  \n",
       "11138  C1761353343       704355.36      5270364.19        0  \n",
       "11139  C1298316171       610479.00       749621.53        0  \n",
       "11140   M983553548            0.00            0.00        0  \n",
       "11141   M609545864            0.00            0.00        0  \n",
       "\n",
       "[11142 rows x 10 columns]"
      ]
     },
     "execution_count": 4,
     "metadata": {},
     "output_type": "execute_result"
    }
   ],
   "source": [
    "data"
   ]
  },
  {
   "cell_type": "code",
   "execution_count": 5,
   "id": "9003063b-6602-4a7c-ab5a-7870f6164f11",
   "metadata": {},
   "outputs": [
    {
     "data": {
      "text/plain": [
       "step              0\n",
       "type              0\n",
       "amount            0\n",
       "nameOrig          0\n",
       "oldbalanceOrg     0\n",
       "newbalanceOrig    0\n",
       "nameDest          0\n",
       "oldbalanceDest    0\n",
       "newbalanceDest    0\n",
       "isFraud           0\n",
       "dtype: int64"
      ]
     },
     "execution_count": 5,
     "metadata": {},
     "output_type": "execute_result"
    }
   ],
   "source": [
    "data.isnull().sum()"
   ]
  },
  {
   "cell_type": "code",
   "execution_count": 6,
   "id": "17277043-bf17-4e05-b1de-98e4c6d9ccf9",
   "metadata": {},
   "outputs": [
    {
     "name": "stdout",
     "output_type": "stream",
     "text": [
      "<class 'pandas.core.frame.DataFrame'>\n",
      "RangeIndex: 11142 entries, 0 to 11141\n",
      "Data columns (total 10 columns):\n",
      " #   Column          Non-Null Count  Dtype  \n",
      "---  ------          --------------  -----  \n",
      " 0   step            11142 non-null  int64  \n",
      " 1   type            11142 non-null  object \n",
      " 2   amount          11142 non-null  float64\n",
      " 3   nameOrig        11142 non-null  object \n",
      " 4   oldbalanceOrg   11142 non-null  float64\n",
      " 5   newbalanceOrig  11142 non-null  float64\n",
      " 6   nameDest        11142 non-null  object \n",
      " 7   oldbalanceDest  11142 non-null  float64\n",
      " 8   newbalanceDest  11142 non-null  float64\n",
      " 9   isFraud         11142 non-null  int64  \n",
      "dtypes: float64(5), int64(2), object(3)\n",
      "memory usage: 870.6+ KB\n",
      "None\n",
      "               step        amount  oldbalanceOrg  newbalanceOrig  \\\n",
      "count  11142.000000  1.114200e+04   1.114200e+04    1.114200e+04   \n",
      "mean       8.717645  2.131915e+05   9.241173e+05    8.249576e+05   \n",
      "std       16.067479  7.600650e+05   2.143004e+06    2.089894e+06   \n",
      "min        1.000000  2.390000e+00   0.000000e+00    0.000000e+00   \n",
      "25%        2.000000  4.946618e+03   4.270000e+02    0.000000e+00   \n",
      "50%        6.000000  1.676126e+04   2.816950e+04    4.420605e+03   \n",
      "75%        7.000000  1.543366e+05   3.040855e+05    1.114126e+05   \n",
      "max       95.000000  1.000000e+07   1.990000e+07    1.300000e+07   \n",
      "\n",
      "       oldbalanceDest  newbalanceDest       isFraud  \n",
      "count    1.114200e+04    1.114200e+04  11142.000000  \n",
      "mean     8.883541e+05    1.103211e+06      0.102495  \n",
      "std      2.601376e+06    2.982447e+06      0.303312  \n",
      "min      0.000000e+00    0.000000e+00      0.000000  \n",
      "25%      0.000000e+00    0.000000e+00      0.000000  \n",
      "50%      0.000000e+00    0.000000e+00      0.000000  \n",
      "75%      2.711555e+05    3.186374e+05      0.000000  \n",
      "max      3.300000e+07    3.460000e+07      1.000000  \n",
      "   step      type   amount     nameOrig  oldbalanceOrg  newbalanceOrig  \\\n",
      "0     1  TRANSFER    181.0  C1305486145          181.0             0.0   \n",
      "1     1  CASH_OUT    181.0   C840083671          181.0             0.0   \n",
      "2     1  TRANSFER   2806.0  C1420196421         2806.0             0.0   \n",
      "3     1  CASH_OUT   2806.0  C2101527076         2806.0             0.0   \n",
      "4     1  TRANSFER  20128.0   C137533655        20128.0             0.0   \n",
      "\n",
      "      nameDest  oldbalanceDest  newbalanceDest  isFraud  \n",
      "0   C553264065             0.0             0.0        1  \n",
      "1    C38997010         21182.0             0.0        1  \n",
      "2   C972765878             0.0             0.0        1  \n",
      "3  C1007251739         26202.0             0.0        1  \n",
      "4  C1848415041             0.0             0.0        1  \n"
     ]
    }
   ],
   "source": [
    "# Overview of data\n",
    "print(data.info())           # Check for data types and missing values\n",
    "print(data.describe())       # Summary statistics for numerical columns\n",
    "print(data.head())           # View the first few rows of the dataset"
   ]
  },
  {
   "cell_type": "code",
   "execution_count": 7,
   "id": "3557d09c-4bd0-41a0-aef8-bf060a7d0d7a",
   "metadata": {},
   "outputs": [
    {
     "name": "stdout",
     "output_type": "stream",
     "text": [
      "Missing values in each column:\n",
      " step              0\n",
      "type              0\n",
      "amount            0\n",
      "nameOrig          0\n",
      "oldbalanceOrg     0\n",
      "newbalanceOrig    0\n",
      "nameDest          0\n",
      "oldbalanceDest    0\n",
      "newbalanceDest    0\n",
      "isFraud           0\n",
      "dtype: int64\n"
     ]
    }
   ],
   "source": [
    "# Checking for missing values\n",
    "missing_values = data.isnull().sum()\n",
    "print(\"Missing values in each column:\\n\", missing_values)"
   ]
  },
  {
   "cell_type": "code",
   "execution_count": 8,
   "id": "3abdca8b-a0e2-4c25-a1e6-91487fb5b8b5",
   "metadata": {},
   "outputs": [],
   "source": [
    "# Calculate the isFraud distribution\n",
    "class_distribution = data['isFraud'].value_counts(normalize=True)"
   ]
  },
  {
   "cell_type": "code",
   "execution_count": 9,
   "id": "5fc9b835-4550-4be4-8d33-8c9d7be31dc4",
   "metadata": {},
   "outputs": [
    {
     "data": {
      "text/plain": [
       "isFraud\n",
       "0    0.897505\n",
       "1    0.102495\n",
       "Name: proportion, dtype: float64"
      ]
     },
     "execution_count": 9,
     "metadata": {},
     "output_type": "execute_result"
    }
   ],
   "source": [
    "class_distribution"
   ]
  },
  {
   "cell_type": "code",
   "execution_count": 30,
   "id": "1a3659ee-dc93-47d2-ab6b-43869d784d3d",
   "metadata": {},
   "outputs": [],
   "source": [
    "type_counts = data['type'].value_counts()"
   ]
  },
  {
   "cell_type": "code",
   "execution_count": 32,
   "id": "98ffddcb-7908-4066-b840-d46680145731",
   "metadata": {},
   "outputs": [
    {
     "data": {
      "text/plain": [
       "<Axes: xlabel='type'>"
      ]
     },
     "execution_count": 32,
     "metadata": {},
     "output_type": "execute_result"
    },
    {
     "data": {
      "image/png": "[encoded data removed]",
      "text/plain": [
       "<Figure size 640x480 with 1 Axes>"
      ]
     },
     "metadata": {},
     "output_type": "display_data"
    }
   ],
   "source": [
    "type_counts.plot(kind='bar', color='skyblue', edgecolor='black')"
   ]
  },
  {
   "cell_type": "code",
   "execution_count": 9,
   "id": "30f56264-b9a8-4ed0-a34c-220651a466ad",
   "metadata": {},
   "outputs": [
    {
     "name": "stderr",
     "output_type": "stream",
     "text": [
      "C:\\Users\\HP\\AppData\\Local\\Temp\\ipykernel_14812\\2657695566.py:3: FutureWarning: \n",
      "\n",
      "Passing `palette` without assigning `hue` is deprecated and will be removed in v0.14.0. Assign the `x` variable to `hue` and set `legend=False` for the same effect.\n",
      "\n",
      "  sns.barplot(x=class_distribution.index, y=class_distribution.values, palette=\"viridis\")\n"
     ]
    },
    {
     "data": {
      "image/png": "[encoded data removed]",
      "text/plain": [
       "<Figure size 600x400 with 1 Axes>"
      ]
     },
     "metadata": {},
     "output_type": "display_data"
    }
   ],
   "source": [
    "# Plotting Class Distribution\n",
    "plt.figure(figsize=(6, 4))\n",
    "sns.barplot(x=class_distribution.index, y=class_distribution.values, palette=\"viridis\")\n",
    "plt.title('isFraud Distribution (Fraud vs Non-Fraud)')\n",
    "plt.xticks([0, 1], ['Non-Fraud', 'Fraud'])\n",
    "plt.ylabel('Proportion')\n",
    "plt.xlabel('Class')\n",
    "plt.show()"
   ]
  },
  {
   "cell_type": "code",
   "execution_count": 10,
   "id": "7ec9d8ea-cb89-49d6-9a0b-44a6c4b8b9dd",
   "metadata": {},
   "outputs": [
    {
     "data": {
      "image/png": "[encoded data removed]",
      "text/plain": [
       "<Figure size 1000x600 with 1 Axes>"
      ]
     },
     "metadata": {},
     "output_type": "display_data"
    }
   ],
   "source": [
    "# Exploring amount distribution\n",
    "plt.figure(figsize=(10, 6))\n",
    "sns.histplot(data[data['isFraud'] == 1]['amount'], bins=50, color='red', label='Fraudulent', kde=True)\n",
    "sns.histplot(data[data['isFraud'] == 0]['amount'], bins=50, color='blue', label='Non-Fraudulent', kde=True)\n",
    "plt.legend()\n",
    "plt.title('Transaction Amount Distribution')\n",
    "plt.xlabel('Transaction Amount')\n",
    "plt.show()"
   ]
  },
  {
   "cell_type": "code",
   "execution_count": 11,
   "id": "ceb04655-4d55-4b7b-aebf-32e3a51fc46a",
   "metadata": {},
   "outputs": [
    {
     "data": {
      "image/png": "[encoded data removed]",
      "text/plain": [
       "<Figure size 640x480 with 1 Axes>"
      ]
     },
     "metadata": {},
     "output_type": "display_data"
    }
   ],
   "source": [
    "sns.boxplot(x='isFraud', y='amount', data=data)\n",
    "plt.title(\"Amount Distribution by Fraud Status\")\n",
    "plt.show()"
   ]
  },
  {
   "cell_type": "code",
   "execution_count": 8,
   "id": "8fd26cc2-8eaf-496a-8a7b-9b8e448a67fa",
   "metadata": {},
   "outputs": [],
   "source": [
    "# Step 4: Feature Engineering\n",
    "data['balance_diff'] = data['oldbalanceOrg'] - data['newbalanceOrig']"
   ]
  },
  {
   "cell_type": "code",
   "execution_count": 9,
   "id": "36157d94-5c5b-4fe0-a4c7-9bbf93f29d37",
   "metadata": {},
   "outputs": [
    {
     "data": {
      "text/plain": [
       "0           181.00\n",
       "1           181.00\n",
       "2          2806.00\n",
       "3          2806.00\n",
       "4         20128.00\n",
       "           ...    \n",
       "11137      6393.70\n",
       "11138    298799.54\n",
       "11139    127891.14\n",
       "11140      1094.03\n",
       "11141      9235.58\n",
       "Name: balance_diff, Length: 11142, dtype: float64"
      ]
     },
     "execution_count": 9,
     "metadata": {},
     "output_type": "execute_result"
    }
   ],
   "source": [
    "data['balance_diff']"
   ]
  },
  {
   "cell_type": "code",
   "execution_count": 10,
   "id": "c076b7de-9040-40fc-b455-3407e9593472",
   "metadata": {},
   "outputs": [
    {
     "data": {
      "text/html": [
       "<div>\n",
       "<style scoped>\n",
       "    .dataframe tbody tr th:only-of-type {\n",
       "        vertical-align: middle;\n",
       "    }\n",
       "\n",
       "    .dataframe tbody tr th {\n",
       "        vertical-align: top;\n",
       "    }\n",
       "\n",
       "    .dataframe thead th {\n",
       "        text-align: right;\n",
       "    }\n",
       "</style>\n",
       "<table border=\"1\" class=\"dataframe\">\n",
       "  <thead>\n",
       "    <tr style=\"text-align: right;\">\n",
       "      <th></th>\n",
       "      <th>step</th>\n",
       "      <th>type</th>\n",
       "      <th>amount</th>\n",
       "      <th>nameOrig</th>\n",
       "      <th>oldbalanceOrg</th>\n",
       "      <th>newbalanceOrig</th>\n",
       "      <th>nameDest</th>\n",
       "      <th>oldbalanceDest</th>\n",
       "      <th>newbalanceDest</th>\n",
       "      <th>isFraud</th>\n",
       "      <th>balance_diff</th>\n",
       "    </tr>\n",
       "  </thead>\n",
       "  <tbody>\n",
       "    <tr>\n",
       "      <th>0</th>\n",
       "      <td>1</td>\n",
       "      <td>TRANSFER</td>\n",
       "      <td>181.00</td>\n",
       "      <td>C1305486145</td>\n",
       "      <td>181.00</td>\n",
       "      <td>0.00</td>\n",
       "      <td>C553264065</td>\n",
       "      <td>0.00</td>\n",
       "      <td>0.00</td>\n",
       "      <td>1</td>\n",
       "      <td>181.00</td>\n",
       "    </tr>\n",
       "    <tr>\n",
       "      <th>1</th>\n",
       "      <td>1</td>\n",
       "      <td>CASH_OUT</td>\n",
       "      <td>181.00</td>\n",
       "      <td>C840083671</td>\n",
       "      <td>181.00</td>\n",
       "      <td>0.00</td>\n",
       "      <td>C38997010</td>\n",
       "      <td>21182.00</td>\n",
       "      <td>0.00</td>\n",
       "      <td>1</td>\n",
       "      <td>181.00</td>\n",
       "    </tr>\n",
       "    <tr>\n",
       "      <th>2</th>\n",
       "      <td>1</td>\n",
       "      <td>TRANSFER</td>\n",
       "      <td>2806.00</td>\n",
       "      <td>C1420196421</td>\n",
       "      <td>2806.00</td>\n",
       "      <td>0.00</td>\n",
       "      <td>C972765878</td>\n",
       "      <td>0.00</td>\n",
       "      <td>0.00</td>\n",
       "      <td>1</td>\n",
       "      <td>2806.00</td>\n",
       "    </tr>\n",
       "    <tr>\n",
       "      <th>3</th>\n",
       "      <td>1</td>\n",
       "      <td>CASH_OUT</td>\n",
       "      <td>2806.00</td>\n",
       "      <td>C2101527076</td>\n",
       "      <td>2806.00</td>\n",
       "      <td>0.00</td>\n",
       "      <td>C1007251739</td>\n",
       "      <td>26202.00</td>\n",
       "      <td>0.00</td>\n",
       "      <td>1</td>\n",
       "      <td>2806.00</td>\n",
       "    </tr>\n",
       "    <tr>\n",
       "      <th>4</th>\n",
       "      <td>1</td>\n",
       "      <td>TRANSFER</td>\n",
       "      <td>20128.00</td>\n",
       "      <td>C137533655</td>\n",
       "      <td>20128.00</td>\n",
       "      <td>0.00</td>\n",
       "      <td>C1848415041</td>\n",
       "      <td>0.00</td>\n",
       "      <td>0.00</td>\n",
       "      <td>1</td>\n",
       "      <td>20128.00</td>\n",
       "    </tr>\n",
       "    <tr>\n",
       "      <th>...</th>\n",
       "      <td>...</td>\n",
       "      <td>...</td>\n",
       "      <td>...</td>\n",
       "      <td>...</td>\n",
       "      <td>...</td>\n",
       "      <td>...</td>\n",
       "      <td>...</td>\n",
       "      <td>...</td>\n",
       "      <td>...</td>\n",
       "      <td>...</td>\n",
       "      <td>...</td>\n",
       "    </tr>\n",
       "    <tr>\n",
       "      <th>11137</th>\n",
       "      <td>7</td>\n",
       "      <td>DEBIT</td>\n",
       "      <td>6393.71</td>\n",
       "      <td>C1331144930</td>\n",
       "      <td>433084.38</td>\n",
       "      <td>426690.68</td>\n",
       "      <td>C684896216</td>\n",
       "      <td>478421.00</td>\n",
       "      <td>210535.25</td>\n",
       "      <td>0</td>\n",
       "      <td>6393.70</td>\n",
       "    </tr>\n",
       "    <tr>\n",
       "      <th>11138</th>\n",
       "      <td>7</td>\n",
       "      <td>CASH_OUT</td>\n",
       "      <td>298799.54</td>\n",
       "      <td>C932023579</td>\n",
       "      <td>426690.68</td>\n",
       "      <td>127891.14</td>\n",
       "      <td>C1761353343</td>\n",
       "      <td>704355.36</td>\n",
       "      <td>5270364.19</td>\n",
       "      <td>0</td>\n",
       "      <td>298799.54</td>\n",
       "    </tr>\n",
       "    <tr>\n",
       "      <th>11139</th>\n",
       "      <td>7</td>\n",
       "      <td>CASH_OUT</td>\n",
       "      <td>423159.63</td>\n",
       "      <td>C61395726</td>\n",
       "      <td>127891.14</td>\n",
       "      <td>0.00</td>\n",
       "      <td>C1298316171</td>\n",
       "      <td>610479.00</td>\n",
       "      <td>749621.53</td>\n",
       "      <td>0</td>\n",
       "      <td>127891.14</td>\n",
       "    </tr>\n",
       "    <tr>\n",
       "      <th>11140</th>\n",
       "      <td>7</td>\n",
       "      <td>PAYMENT</td>\n",
       "      <td>1094.03</td>\n",
       "      <td>C1224570697</td>\n",
       "      <td>13918.00</td>\n",
       "      <td>12823.97</td>\n",
       "      <td>M983553548</td>\n",
       "      <td>0.00</td>\n",
       "      <td>0.00</td>\n",
       "      <td>0</td>\n",
       "      <td>1094.03</td>\n",
       "    </tr>\n",
       "    <tr>\n",
       "      <th>11141</th>\n",
       "      <td>7</td>\n",
       "      <td>PAYMENT</td>\n",
       "      <td>9235.58</td>\n",
       "      <td>C1637966097</td>\n",
       "      <td>39963.00</td>\n",
       "      <td>30727.42</td>\n",
       "      <td>M609545864</td>\n",
       "      <td>0.00</td>\n",
       "      <td>0.00</td>\n",
       "      <td>0</td>\n",
       "      <td>9235.58</td>\n",
       "    </tr>\n",
       "  </tbody>\n",
       "</table>\n",
       "<p>11142 rows × 11 columns</p>\n",
       "</div>"
      ],
      "text/plain": [
       "       step      type     amount     nameOrig  oldbalanceOrg  newbalanceOrig  \\\n",
       "0         1  TRANSFER     181.00  C1305486145         181.00            0.00   \n",
       "1         1  CASH_OUT     181.00   C840083671         181.00            0.00   \n",
       "2         1  TRANSFER    2806.00  C1420196421        2806.00            0.00   \n",
       "3         1  CASH_OUT    2806.00  C2101527076        2806.00            0.00   \n",
       "4         1  TRANSFER   20128.00   C137533655       20128.00            0.00   \n",
       "...     ...       ...        ...          ...            ...             ...   \n",
       "11137     7     DEBIT    6393.71  C1331144930      433084.38       426690.68   \n",
       "11138     7  CASH_OUT  298799.54   C932023579      426690.68       127891.14   \n",
       "11139     7  CASH_OUT  423159.63    C61395726      127891.14            0.00   \n",
       "11140     7   PAYMENT    1094.03  C1224570697       13918.00        12823.97   \n",
       "11141     7   PAYMENT    9235.58  C1637966097       39963.00        30727.42   \n",
       "\n",
       "          nameDest  oldbalanceDest  newbalanceDest  isFraud  balance_diff  \n",
       "0       C553264065            0.00            0.00        1        181.00  \n",
       "1        C38997010        21182.00            0.00        1        181.00  \n",
       "2       C972765878            0.00            0.00        1       2806.00  \n",
       "3      C1007251739        26202.00            0.00        1       2806.00  \n",
       "4      C1848415041            0.00            0.00        1      20128.00  \n",
       "...            ...             ...             ...      ...           ...  \n",
       "11137   C684896216       478421.00       210535.25        0       6393.70  \n",
       "11138  C1761353343       704355.36      5270364.19        0     298799.54  \n",
       "11139  C1298316171       610479.00       749621.53        0     127891.14  \n",
       "11140   M983553548            0.00            0.00        0       1094.03  \n",
       "11141   M609545864            0.00            0.00        0       9235.58  \n",
       "\n",
       "[11142 rows x 11 columns]"
      ]
     },
     "execution_count": 10,
     "metadata": {},
     "output_type": "execute_result"
    }
   ],
   "source": [
    "data"
   ]
  },
  {
   "cell_type": "code",
   "execution_count": 14,
   "id": "e9e85463-ab98-45ff-bfe9-c35d470269a1",
   "metadata": {},
   "outputs": [],
   "source": [
    "data = pd.get_dummies(data, columns=['type'], drop_first=True)"
   ]
  },
  {
   "cell_type": "markdown",
   "id": "a952f282-d8df-4af0-a891-c99299938db5",
   "metadata": {},
   "source": [
    "#### data"
   ]
  },
  {
   "cell_type": "code",
   "execution_count": 16,
   "id": "7675426c-779d-411b-9538-74caf0d13962",
   "metadata": {},
   "outputs": [],
   "source": [
    "# Step 5: Split Data\n",
    "X = data.drop(['isFraud', 'nameOrig', 'nameDest'], axis=1)\n",
    "y = data['isFraud']"
   ]
  },
  {
   "cell_type": "code",
   "execution_count": 17,
   "id": "f850dd1a-cbb5-423f-9996-fa5deb13144a",
   "metadata": {},
   "outputs": [],
   "source": [
    "X_train, X_test, y_train, y_test = train_test_split(X, y, test_size=0.3, random_state=42)"
   ]
  },
  {
   "cell_type": "code",
   "execution_count": 18,
   "id": "7cfe9ce4-7c7b-45bc-9d72-d0a013a87c90",
   "metadata": {},
   "outputs": [],
   "source": [
    "# Step 6: Train Models\n",
    "models = {\n",
    "    \"Logistic Regression\": LogisticRegression(),\n",
    "    \"Random Forest\": RandomForestClassifier(),\n",
    "    'Gradient Boosting': GradientBoostingClassifier(),\n",
    "    \"XGBoost\": XGBClassifier(eval_metric='logloss')\n",
    "}"
   ]
  },
  {
   "cell_type": "code",
   "execution_count": 19,
   "id": "a8fd5142-3838-480a-bbd2-1e1104a53588",
   "metadata": {},
   "outputs": [
    {
     "name": "stderr",
     "output_type": "stream",
     "text": [
      "C:\\Users\\HP\\AppData\\Local\\Programs\\Python\\Python312\\Lib\\site-packages\\sklearn\\linear_model\\_logistic.py:469: ConvergenceWarning: lbfgs failed to converge (status=1):\n",
      "STOP: TOTAL NO. of ITERATIONS REACHED LIMIT.\n",
      "\n",
      "Increase the number of iterations (max_iter) or scale the data as shown in:\n",
      "    https://scikit-learn.org/stable/modules/preprocessing.html\n",
      "Please also refer to the documentation for alternative solver options:\n",
      "    https://scikit-learn.org/stable/modules/linear_model.html#logistic-regression\n",
      "  n_iter_i = _check_optimize_result(\n"
     ]
    },
    {
     "name": "stdout",
     "output_type": "stream",
     "text": [
      "\n",
      "Logistic Regression\n",
      "Classification Report:\n",
      "               precision    recall  f1-score   support\n",
      "\n",
      "           0       0.98      0.96      0.97      2996\n",
      "           1       0.71      0.82      0.76       347\n",
      "\n",
      "    accuracy                           0.95      3343\n",
      "   macro avg       0.84      0.89      0.87      3343\n",
      "weighted avg       0.95      0.95      0.95      3343\n",
      "\n",
      "ROC-AUC: 0.892577711684744\n",
      "Accuracy score: 0.9467544122046067\n",
      "\n",
      "Random Forest\n",
      "Classification Report:\n",
      "               precision    recall  f1-score   support\n",
      "\n",
      "           0       1.00      1.00      1.00      2996\n",
      "           1       1.00      0.97      0.98       347\n",
      "\n",
      "    accuracy                           1.00      3343\n",
      "   macro avg       1.00      0.98      0.99      3343\n",
      "weighted avg       1.00      1.00      1.00      3343\n",
      "\n",
      "ROC-AUC: 0.9827089337175792\n",
      "Accuracy score: 0.9964104098115465\n",
      "\n",
      "Gradient Boosting\n",
      "Classification Report:\n",
      "               precision    recall  f1-score   support\n",
      "\n",
      "           0       1.00      1.00      1.00      2996\n",
      "           1       1.00      0.97      0.98       347\n",
      "\n",
      "    accuracy                           1.00      3343\n",
      "   macro avg       1.00      0.98      0.99      3343\n",
      "weighted avg       1.00      1.00      1.00      3343\n",
      "\n",
      "ROC-AUC: 0.9827089337175792\n",
      "Accuracy score: 0.9964104098115465\n",
      "\n",
      "XGBoost\n",
      "Classification Report:\n",
      "               precision    recall  f1-score   support\n",
      "\n",
      "           0       1.00      1.00      1.00      2996\n",
      "           1       0.99      0.97      0.98       347\n",
      "\n",
      "    accuracy                           1.00      3343\n",
      "   macro avg       1.00      0.98      0.99      3343\n",
      "weighted avg       1.00      1.00      1.00      3343\n",
      "\n",
      "ROC-AUC: 0.9823751553464176\n",
      "Accuracy score: 0.9958121447801376\n"
     ]
    }
   ],
   "source": [
    "for name, model in models.items():\n",
    "    model.fit(X_train, y_train)\n",
    "    preds = model.predict(X_test)\n",
    "    accuracy = accuracy_score(y_test, preds)\n",
    "    print(f\"\\n{name}\")\n",
    "    print(\"Classification Report:\\n\", classification_report(y_test, preds))\n",
    "    print(f\"ROC-AUC: {roc_auc_score(y_test, preds)}\")\n",
    "    print(f\"Accuracy score: {accuracy}\")"
   ]
  },
  {
   "cell_type": "code",
   "execution_count": 20,
   "id": "9bd33c4c-7be0-42ca-b12f-2b9dbabf3917",
   "metadata": {},
   "outputs": [
    {
     "data": {
      "text/html": [
       "<div>\n",
       "<style scoped>\n",
       "    .dataframe tbody tr th:only-of-type {\n",
       "        vertical-align: middle;\n",
       "    }\n",
       "\n",
       "    .dataframe tbody tr th {\n",
       "        vertical-align: top;\n",
       "    }\n",
       "\n",
       "    .dataframe thead th {\n",
       "        text-align: right;\n",
       "    }\n",
       "</style>\n",
       "<table border=\"1\" class=\"dataframe\">\n",
       "  <thead>\n",
       "    <tr style=\"text-align: right;\">\n",
       "      <th></th>\n",
       "      <th>Model Name</th>\n",
       "      <th>Accuracy</th>\n",
       "      <th>ROC-AUC</th>\n",
       "    </tr>\n",
       "  </thead>\n",
       "  <tbody>\n",
       "    <tr>\n",
       "      <th>0</th>\n",
       "      <td>logistic regression</td>\n",
       "      <td>94.67%</td>\n",
       "      <td>0.89</td>\n",
       "    </tr>\n",
       "    <tr>\n",
       "      <th>1</th>\n",
       "      <td>Random forest</td>\n",
       "      <td>99.67%</td>\n",
       "      <td>0.98</td>\n",
       "    </tr>\n",
       "    <tr>\n",
       "      <th>2</th>\n",
       "      <td>Gradient Boosting</td>\n",
       "      <td>99.64%</td>\n",
       "      <td>0.98</td>\n",
       "    </tr>\n",
       "    <tr>\n",
       "      <th>3</th>\n",
       "      <td>XGBoostion</td>\n",
       "      <td>99.5%</td>\n",
       "      <td>0.98</td>\n",
       "    </tr>\n",
       "  </tbody>\n",
       "</table>\n",
       "</div>"
      ],
      "text/plain": [
       "            Model Name Accuracy ROC-AUC\n",
       "0  logistic regression   94.67%    0.89\n",
       "1        Random forest   99.67%    0.98\n",
       "2    Gradient Boosting   99.64%    0.98\n",
       "3           XGBoostion    99.5%    0.98"
      ]
     },
     "execution_count": 20,
     "metadata": {},
     "output_type": "execute_result"
    }
   ],
   "source": [
    "d = {\n",
    "    'Model Name': ['logistic regression',' Random forest',' Gradient Boosting','XGBoostion'],\n",
    "    'Accuracy': ['94.67%','99.67%','99.64%','99.5%'],\n",
    "    \"ROC-AUC\": ['0.89','0.98','0.98','0.98']\n",
    "}\n",
    "df = pd.DataFrame(data=d)\n",
    "df"
   ]
  },
  {
   "cell_type": "code",
   "execution_count": 21,
   "id": "5f48dae2-b4eb-48cf-ae90-a7bc0986ac07",
   "metadata": {},
   "outputs": [
    {
     "data": {
      "image/png": "[encoded data removed]",
      "text/plain": [
       "<Figure size 1000x700 with 1 Axes>"
      ]
     },
     "metadata": {},
     "output_type": "display_data"
    }
   ],
   "source": [
    "# Store ROC data for each model\n",
    "model_roc_data = {}\n",
    "\n",
    "# Train models and calculate AUC-ROC\n",
    "for name, model in models.items():\n",
    "    probas = model.predict_proba(X_test)[:, 1]  # Predicted probabilities for positive class\n",
    "    fpr, tpr, thresholds = roc_curve(y_test, probas)\n",
    "    roc_auc = auc(fpr, tpr)\n",
    "    model_roc_data[name] = (fpr, tpr, roc_auc)\n",
    "\n",
    "# Plot ROC Curves\n",
    "plt.figure(figsize=(10, 7))\n",
    "for name, (fpr, tpr, roc_auc) in model_roc_data.items():\n",
    "    plt.plot(fpr, tpr, label=f\"{name} (AUC = {roc_auc:.2f})\")\n",
    "\n",
    "plt.plot([0, 1], [0, 1], label=\"Random Guess\", color='gray', linestyle='--')  # Random guess line\n",
    "plt.title(\"ROC Curve Comparison\")\n",
    "plt.xlabel(\"False Positive Rate\")\n",
    "plt.ylabel(\"True Positive Rate\")\n",
    "plt.legend(loc=\"lower right\")\n",
    "plt.show()\n"
   ]
  },
  {
   "cell_type": "code",
   "execution_count": 22,
   "id": "43b0620d-c2f8-46e6-a00c-64a84dcbf825",
   "metadata": {},
   "outputs": [
    {
     "data": {
      "image/png": "[encoded data removed]",
      "text/plain": [
       "<Figure size 800x600 with 1 Axes>"
      ]
     },
     "metadata": {},
     "output_type": "display_data"
    }
   ],
   "source": [
    "# Step 8: Visualize Results\n",
    "conf_matrix = confusion_matrix(y_test, preds)\n",
    "\n",
    "# Plotting the confusion matrix\n",
    "plt.figure(figsize=(8, 6))\n",
    "sns.heatmap(conf_matrix, annot=True, fmt=\"d\", cmap=\"Blues\", cbar=False)\n",
    "plt.title(\"Confusion Matrix\", fontsize=16)\n",
    "plt.xlabel(\"Predicted Labels\", fontsize=12)\n",
    "plt.ylabel(\"True Labels\", fontsize=12)\n",
    "plt.show()"
   ]
  },
  {
   "cell_type": "code",
   "execution_count": 23,
   "id": "08ec8662-c541-4d2b-b41f-9643c2fd866a",
   "metadata": {},
   "outputs": [
    {
     "name": "stdout",
     "output_type": "stream",
     "text": [
      "Average fraud loss: $1192628.9320753065\n",
      "Decated fraud: 335\n",
      "False alarm: 2\n",
      "Financial Impact: $399530492.2452277\n"
     ]
    }
   ],
   "source": [
    "# Step 7: Financial Impact Analysis\n",
    "avg_fraud_loss = np.average(data[data['isFraud'] == 1]['amount'])  #average of amount where fraud is true which is 1\n",
    "detected_frauds = sum((y_test == 1) & (preds == 1))  #actual fraud and Predicted frauds.\n",
    "false_alarms = sum((y_test == 0) & (preds == 1))     #actual not-fraud and Predicted frauds.\n",
    "financial_impact = detected_frauds * avg_fraud_loss - false_alarms * 100 \n",
    "\n",
    "print(f\"Average fraud loss: ${avg_fraud_loss}\")\n",
    "print(f\"Decated fraud: {detected_frauds}\")\n",
    "print(f\"False alarm: {false_alarms}\")\n",
    "print(f\"Financial Impact: ${financial_impact}\")"
   ]
  },
  {
   "cell_type": "code",
   "execution_count": 3,
   "id": "c9e1366a-35da-47d4-b1d5-26d26d3e2712",
   "metadata": {},
   "outputs": [
    {
     "data": {
      "text/html": [
       "<div>\n",
       "<style scoped>\n",
       "    .dataframe tbody tr th:only-of-type {\n",
       "        vertical-align: middle;\n",
       "    }\n",
       "\n",
       "    .dataframe tbody tr th {\n",
       "        vertical-align: top;\n",
       "    }\n",
       "\n",
       "    .dataframe thead th {\n",
       "        text-align: right;\n",
       "    }\n",
       "</style>\n",
       "<table border=\"1\" class=\"dataframe\">\n",
       "  <thead>\n",
       "    <tr style=\"text-align: right;\">\n",
       "      <th></th>\n",
       "      <th>Financial Impact Analysis</th>\n",
       "      <th>Values</th>\n",
       "    </tr>\n",
       "  </thead>\n",
       "  <tbody>\n",
       "    <tr>\n",
       "      <th>0</th>\n",
       "      <td>Average fraud loss</td>\n",
       "      <td>$11,92,628.93</td>\n",
       "    </tr>\n",
       "    <tr>\n",
       "      <th>1</th>\n",
       "      <td>Decated fraud</td>\n",
       "      <td>335</td>\n",
       "    </tr>\n",
       "    <tr>\n",
       "      <th>2</th>\n",
       "      <td>False alarm</td>\n",
       "      <td>2</td>\n",
       "    </tr>\n",
       "    <tr>\n",
       "      <th>3</th>\n",
       "      <td>Financial Impact</td>\n",
       "      <td>$39,95,30,492.24</td>\n",
       "    </tr>\n",
       "  </tbody>\n",
       "</table>\n",
       "</div>"
      ],
      "text/plain": [
       "  Financial Impact Analysis            Values\n",
       "0        Average fraud loss     $11,92,628.93\n",
       "1             Decated fraud               335\n",
       "2               False alarm                 2\n",
       "3          Financial Impact  $39,95,30,492.24"
      ]
     },
     "execution_count": 3,
     "metadata": {},
     "output_type": "execute_result"
    }
   ],
   "source": [
    "FIA = {\n",
    "    \"Financial Impact Analysis\": [\"Average fraud loss\",\"Decated fraud\",\"False alarm\",\"Financial Impact\"],\n",
    "    \"Values\": [\"$11,92,628.93\",\"335\",\"2\",\"$39,95,30,492.24\"]\n",
    "}\n",
    "fia_table = pd.DataFrame(data=FIA)\n",
    "fia_table"
   ]
  },
  {
   "cell_type": "code",
   "execution_count": null,
   "id": "2fec4716-26e0-436e-85ec-65932ae9eeb4",
   "metadata": {},
   "outputs": [],
   "source": []
  }
 ],
 "metadata": {
  "kernelspec": {
   "display_name": "Python 3 (ipykernel)",
   "language": "python",
   "name": "python3"
  },
  "language_info": {
   "codemirror_mode": {
    "name": "ipython",
    "version": 3
   },
   "file_extension": ".py",
   "mimetype": "text/x-python",
   "name": "python",
   "nbconvert_exporter": "python",
   "pygments_lexer": "ipython3",
   "version": "3.12.4"
  }
 },
 "nbformat": 4,
 "nbformat_minor": 5
}
